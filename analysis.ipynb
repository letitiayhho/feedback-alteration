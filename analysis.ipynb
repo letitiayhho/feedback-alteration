{
 "cells": [
  {
   "cell_type": "code",
   "execution_count": 140,
   "metadata": {},
   "outputs": [],
   "source": [
    "import sys\n",
    "import numpy as np\n",
    "import pandas as pd\n",
    "import matplotlib.pyplot as plt\n",
    "import pymc3 as pm\n",
    "import arviz as az\n",
    "from sklearn.linear_model import LinearRegression\n",
    "from typing import Dict, Optional, Tuple, Sequence, Iterator"
   ]
  },
  {
   "cell_type": "code",
   "execution_count": 22,
   "metadata": {},
   "outputs": [
    {
     "data": {
      "text/html": [
       "<div>\n",
       "<style scoped>\n",
       "    .dataframe tbody tr th:only-of-type {\n",
       "        vertical-align: middle;\n",
       "    }\n",
       "\n",
       "    .dataframe tbody tr th {\n",
       "        vertical-align: top;\n",
       "    }\n",
       "\n",
       "    .dataframe thead th {\n",
       "        text-align: right;\n",
       "    }\n",
       "</style>\n",
       "<table border=\"1\" class=\"dataframe\">\n",
       "  <thead>\n",
       "    <tr style=\"text-align: right;\">\n",
       "      <th></th>\n",
       "      <th>subject</th>\n",
       "      <th>exp</th>\n",
       "      <th>phasename</th>\n",
       "      <th>num_rep</th>\n",
       "      <th>num_trial</th>\n",
       "      <th>num_formed</th>\n",
       "      <th>num_uttered</th>\n",
       "      <th>prompt</th>\n",
       "      <th>in_or_out</th>\n",
       "      <th>date_run</th>\n",
       "      <th>time_run</th>\n",
       "      <th>block</th>\n",
       "      <th>pitches</th>\n",
       "    </tr>\n",
       "  </thead>\n",
       "  <tbody>\n",
       "    <tr>\n",
       "      <td>0</td>\n",
       "      <td>20</td>\n",
       "      <td>PU</td>\n",
       "      <td>5</td>\n",
       "      <td>44</td>\n",
       "      <td>1</td>\n",
       "      <td>2637</td>\n",
       "      <td>70</td>\n",
       "      <td>HECK</td>\n",
       "      <td>O</td>\n",
       "      <td>20170127</td>\n",
       "      <td>11</td>\n",
       "      <td>3</td>\n",
       "      <td>0      134.355450\n",
       "1      134.360625\n",
       "2      134...</td>\n",
       "    </tr>\n",
       "    <tr>\n",
       "      <td>1</td>\n",
       "      <td>20</td>\n",
       "      <td>PU</td>\n",
       "      <td>5</td>\n",
       "      <td>36</td>\n",
       "      <td>1</td>\n",
       "      <td>2629</td>\n",
       "      <td>62</td>\n",
       "      <td>HECK</td>\n",
       "      <td>O</td>\n",
       "      <td>20170127</td>\n",
       "      <td>11</td>\n",
       "      <td>3</td>\n",
       "      <td>0      130.217779\n",
       "1      130.179978\n",
       "2      130...</td>\n",
       "    </tr>\n",
       "    <tr>\n",
       "      <td>2</td>\n",
       "      <td>20</td>\n",
       "      <td>PU</td>\n",
       "      <td>7</td>\n",
       "      <td>20</td>\n",
       "      <td>1</td>\n",
       "      <td>2713</td>\n",
       "      <td>146</td>\n",
       "      <td>HECK</td>\n",
       "      <td>I</td>\n",
       "      <td>20170127</td>\n",
       "      <td>11</td>\n",
       "      <td>3</td>\n",
       "      <td>0      132.486939\n",
       "1      132.479573\n",
       "2      132...</td>\n",
       "    </tr>\n",
       "    <tr>\n",
       "      <td>3</td>\n",
       "      <td>20</td>\n",
       "      <td>PU</td>\n",
       "      <td>6</td>\n",
       "      <td>6</td>\n",
       "      <td>1</td>\n",
       "      <td>2649</td>\n",
       "      <td>82</td>\n",
       "      <td>HECK</td>\n",
       "      <td>O</td>\n",
       "      <td>20170127</td>\n",
       "      <td>11</td>\n",
       "      <td>3</td>\n",
       "      <td>0      139.037150\n",
       "1      139.055242\n",
       "2      139...</td>\n",
       "    </tr>\n",
       "    <tr>\n",
       "      <td>4</td>\n",
       "      <td>20</td>\n",
       "      <td>PU</td>\n",
       "      <td>7</td>\n",
       "      <td>8</td>\n",
       "      <td>1</td>\n",
       "      <td>2701</td>\n",
       "      <td>134</td>\n",
       "      <td>HECK</td>\n",
       "      <td>I</td>\n",
       "      <td>20170127</td>\n",
       "      <td>11</td>\n",
       "      <td>3</td>\n",
       "      <td>0      130.927041\n",
       "1      130.913059\n",
       "2      130...</td>\n",
       "    </tr>\n",
       "  </tbody>\n",
       "</table>\n",
       "</div>"
      ],
      "text/plain": [
       "   subject exp  phasename  num_rep  num_trial  num_formed  num_uttered prompt  \\\n",
       "0       20  PU          5       44          1        2637           70   HECK   \n",
       "1       20  PU          5       36          1        2629           62   HECK   \n",
       "2       20  PU          7       20          1        2713          146   HECK   \n",
       "3       20  PU          6        6          1        2649           82   HECK   \n",
       "4       20  PU          7        8          1        2701          134   HECK   \n",
       "\n",
       "  in_or_out  date_run time_run  block  \\\n",
       "0         O  20170127       11      3   \n",
       "1         O  20170127       11      3   \n",
       "2         I  20170127       11      3   \n",
       "3         O  20170127       11      3   \n",
       "4         I  20170127       11      3   \n",
       "\n",
       "                                             pitches  \n",
       "0  0      134.355450\n",
       "1      134.360625\n",
       "2      134...  \n",
       "1  0      130.217779\n",
       "1      130.179978\n",
       "2      130...  \n",
       "2  0      132.486939\n",
       "1      132.479573\n",
       "2      132...  \n",
       "3  0      139.037150\n",
       "1      139.055242\n",
       "2      139...  \n",
       "4  0      130.927041\n",
       "1      130.913059\n",
       "2      130...  "
      ]
     },
     "execution_count": 22,
     "metadata": {},
     "output_type": "execute_result"
    }
   ],
   "source": [
    "\"\"\"\n",
    "Import data\n",
    "\"\"\"\n",
    "raw_data = pd.read_pickle(\"data.pkl\")\n",
    "raw_data[0:5]"
   ]
  },
  {
   "cell_type": "code",
   "execution_count": 23,
   "metadata": {},
   "outputs": [
    {
     "data": {
      "text/html": [
       "<div>\n",
       "<style scoped>\n",
       "    .dataframe tbody tr th:only-of-type {\n",
       "        vertical-align: middle;\n",
       "    }\n",
       "\n",
       "    .dataframe tbody tr th {\n",
       "        vertical-align: top;\n",
       "    }\n",
       "\n",
       "    .dataframe thead th {\n",
       "        text-align: right;\n",
       "    }\n",
       "</style>\n",
       "<table border=\"1\" class=\"dataframe\">\n",
       "  <thead>\n",
       "    <tr style=\"text-align: right;\">\n",
       "      <th></th>\n",
       "      <th>subject</th>\n",
       "      <th>condition</th>\n",
       "      <th>phasenum</th>\n",
       "      <th>num_rep</th>\n",
       "      <th>num_trial</th>\n",
       "      <th>num_formed</th>\n",
       "      <th>num_uttered</th>\n",
       "      <th>prompt</th>\n",
       "      <th>in_or_out</th>\n",
       "      <th>date_run</th>\n",
       "      <th>time_run</th>\n",
       "      <th>block</th>\n",
       "      <th>pitches</th>\n",
       "    </tr>\n",
       "  </thead>\n",
       "  <tbody>\n",
       "    <tr>\n",
       "      <td>0</td>\n",
       "      <td>20</td>\n",
       "      <td>PU</td>\n",
       "      <td>5</td>\n",
       "      <td>44</td>\n",
       "      <td>1</td>\n",
       "      <td>2637</td>\n",
       "      <td>70</td>\n",
       "      <td>HECK</td>\n",
       "      <td>O</td>\n",
       "      <td>20170127</td>\n",
       "      <td>11</td>\n",
       "      <td>3</td>\n",
       "      <td>0      134.355450\n",
       "1      134.360625\n",
       "2      134...</td>\n",
       "    </tr>\n",
       "    <tr>\n",
       "      <td>1</td>\n",
       "      <td>20</td>\n",
       "      <td>PU</td>\n",
       "      <td>5</td>\n",
       "      <td>36</td>\n",
       "      <td>1</td>\n",
       "      <td>2629</td>\n",
       "      <td>62</td>\n",
       "      <td>HECK</td>\n",
       "      <td>O</td>\n",
       "      <td>20170127</td>\n",
       "      <td>11</td>\n",
       "      <td>3</td>\n",
       "      <td>0      130.217779\n",
       "1      130.179978\n",
       "2      130...</td>\n",
       "    </tr>\n",
       "    <tr>\n",
       "      <td>3</td>\n",
       "      <td>20</td>\n",
       "      <td>PU</td>\n",
       "      <td>6</td>\n",
       "      <td>6</td>\n",
       "      <td>1</td>\n",
       "      <td>2649</td>\n",
       "      <td>82</td>\n",
       "      <td>HECK</td>\n",
       "      <td>O</td>\n",
       "      <td>20170127</td>\n",
       "      <td>11</td>\n",
       "      <td>3</td>\n",
       "      <td>0      139.037150\n",
       "1      139.055242\n",
       "2      139...</td>\n",
       "    </tr>\n",
       "    <tr>\n",
       "      <td>5</td>\n",
       "      <td>20</td>\n",
       "      <td>PU</td>\n",
       "      <td>1</td>\n",
       "      <td>1</td>\n",
       "      <td>1</td>\n",
       "      <td>2568</td>\n",
       "      <td>1</td>\n",
       "      <td>HECK</td>\n",
       "      <td>O</td>\n",
       "      <td>20170127</td>\n",
       "      <td>11</td>\n",
       "      <td>3</td>\n",
       "      <td>0      112.625662\n",
       "1      112.649338\n",
       "2      112...</td>\n",
       "    </tr>\n",
       "    <tr>\n",
       "      <td>7</td>\n",
       "      <td>20</td>\n",
       "      <td>PU</td>\n",
       "      <td>5</td>\n",
       "      <td>39</td>\n",
       "      <td>1</td>\n",
       "      <td>2632</td>\n",
       "      <td>65</td>\n",
       "      <td>HECK</td>\n",
       "      <td>O</td>\n",
       "      <td>20170127</td>\n",
       "      <td>11</td>\n",
       "      <td>3</td>\n",
       "      <td>0      139.263470\n",
       "1      139.266789\n",
       "2      139...</td>\n",
       "    </tr>\n",
       "  </tbody>\n",
       "</table>\n",
       "</div>"
      ],
      "text/plain": [
       "   subject condition  phasenum  num_rep  num_trial  num_formed  num_uttered  \\\n",
       "0       20        PU         5       44          1        2637           70   \n",
       "1       20        PU         5       36          1        2629           62   \n",
       "3       20        PU         6        6          1        2649           82   \n",
       "5       20        PU         1        1          1        2568            1   \n",
       "7       20        PU         5       39          1        2632           65   \n",
       "\n",
       "  prompt in_or_out  date_run time_run  block  \\\n",
       "0   HECK         O  20170127       11      3   \n",
       "1   HECK         O  20170127       11      3   \n",
       "3   HECK         O  20170127       11      3   \n",
       "5   HECK         O  20170127       11      3   \n",
       "7   HECK         O  20170127       11      3   \n",
       "\n",
       "                                             pitches  \n",
       "0  0      134.355450\n",
       "1      134.360625\n",
       "2      134...  \n",
       "1  0      130.217779\n",
       "1      130.179978\n",
       "2      130...  \n",
       "3  0      139.037150\n",
       "1      139.055242\n",
       "2      139...  \n",
       "5  0      112.625662\n",
       "1      112.649338\n",
       "2      112...  \n",
       "7  0      139.263470\n",
       "1      139.266789\n",
       "2      139...  "
      ]
     },
     "execution_count": 23,
     "metadata": {},
     "output_type": "execute_result"
    }
   ],
   "source": [
    "\"\"\"\n",
    "Preprocessing\n",
    "\"\"\"\n",
    "\n",
    "# Create new data frame\n",
    "\n",
    "# Remove \"O\" data\n",
    "df = raw_data[raw_data.in_or_out == \"O\"]\n",
    "\n",
    "# Remove first block\n",
    "df = df[df.block != 1]\n",
    "\n",
    "# Rename \"phasename\" to \"phasenum\"\n",
    "df.rename(columns = {\"phasename\": \"phasenum\", \"exp\": \"condition\"}, inplace = True)\n",
    "\n",
    "# Reset pd indexes\n",
    "df.reset_index()\n",
    "\n",
    "# Preview\n",
    "df[0:5]"
   ]
  },
  {
   "cell_type": "code",
   "execution_count": 24,
   "metadata": {},
   "outputs": [
    {
     "data": {
      "text/html": [
       "<div>\n",
       "<style scoped>\n",
       "    .dataframe tbody tr th:only-of-type {\n",
       "        vertical-align: middle;\n",
       "    }\n",
       "\n",
       "    .dataframe tbody tr th {\n",
       "        vertical-align: top;\n",
       "    }\n",
       "\n",
       "    .dataframe thead th {\n",
       "        text-align: right;\n",
       "    }\n",
       "</style>\n",
       "<table border=\"1\" class=\"dataframe\">\n",
       "  <thead>\n",
       "    <tr style=\"text-align: right;\">\n",
       "      <th></th>\n",
       "      <th>count</th>\n",
       "      <th>avg</th>\n",
       "      <th>std</th>\n",
       "      <th>minimum</th>\n",
       "      <th>med</th>\n",
       "      <th>maximum</th>\n",
       "    </tr>\n",
       "  </thead>\n",
       "  <tbody>\n",
       "    <tr>\n",
       "      <td>0</td>\n",
       "      <td>491.0</td>\n",
       "      <td>133.610873</td>\n",
       "      <td>1.544445</td>\n",
       "      <td>124.930762</td>\n",
       "      <td>133.915850</td>\n",
       "      <td>134.887327</td>\n",
       "    </tr>\n",
       "    <tr>\n",
       "      <td>1</td>\n",
       "      <td>531.0</td>\n",
       "      <td>128.870786</td>\n",
       "      <td>1.549235</td>\n",
       "      <td>124.541467</td>\n",
       "      <td>129.371750</td>\n",
       "      <td>132.296456</td>\n",
       "    </tr>\n",
       "    <tr>\n",
       "      <td>2</td>\n",
       "      <td>461.0</td>\n",
       "      <td>137.901782</td>\n",
       "      <td>0.786993</td>\n",
       "      <td>135.052405</td>\n",
       "      <td>137.730314</td>\n",
       "      <td>140.124944</td>\n",
       "    </tr>\n",
       "    <tr>\n",
       "      <td>3</td>\n",
       "      <td>141.0</td>\n",
       "      <td>115.535289</td>\n",
       "      <td>2.270588</td>\n",
       "      <td>112.625662</td>\n",
       "      <td>114.953949</td>\n",
       "      <td>121.897112</td>\n",
       "    </tr>\n",
       "    <tr>\n",
       "      <td>4</td>\n",
       "      <td>451.0</td>\n",
       "      <td>134.375365</td>\n",
       "      <td>2.289648</td>\n",
       "      <td>127.755729</td>\n",
       "      <td>133.575767</td>\n",
       "      <td>139.429389</td>\n",
       "    </tr>\n",
       "  </tbody>\n",
       "</table>\n",
       "</div>"
      ],
      "text/plain": [
       "   count         avg       std     minimum         med     maximum\n",
       "0  491.0  133.610873  1.544445  124.930762  133.915850  134.887327\n",
       "1  531.0  128.870786  1.549235  124.541467  129.371750  132.296456\n",
       "2  461.0  137.901782  0.786993  135.052405  137.730314  140.124944\n",
       "3  141.0  115.535289  2.270588  112.625662  114.953949  121.897112\n",
       "4  451.0  134.375365  2.289648  127.755729  133.575767  139.429389"
      ]
     },
     "execution_count": 24,
     "metadata": {},
     "output_type": "execute_result"
    }
   ],
   "source": [
    "\"\"\"\n",
    "Generate summary statistics for each trial\n",
    "\"\"\"\n",
    "\n",
    "agg: Dict[int, float] = {\n",
    "    \"count\": [],\n",
    "    \"avg\": [],\n",
    "    \"std\": [],\n",
    "    \"minimum\": [],\n",
    "    \"med\": [],\n",
    "    \"maximum\": [],\n",
    "}\n",
    "    \n",
    "for pitches in df.pitches:\n",
    "    (\n",
    "        count,\n",
    "        avg,\n",
    "        std,\n",
    "        minimum,\n",
    "        _,\n",
    "        med,\n",
    "        _,\n",
    "        maximum,\n",
    "                ) = pitches.describe()\n",
    "    agg[\"count\"].append(count)\n",
    "    agg[\"avg\"].append(avg)\n",
    "    agg[\"std\"].append(std)\n",
    "    agg[\"minimum\"].append(minimum)\n",
    "    agg[\"med\"].append(med)\n",
    "    agg[\"maximum\"].append(maximum)\n",
    "    \n",
    "# Preview summary statistics\n",
    "summary_stats = pd.DataFrame(agg)\n",
    "summary_stats[0:5]"
   ]
  },
  {
   "cell_type": "code",
   "execution_count": 25,
   "metadata": {},
   "outputs": [],
   "source": [
    "\"\"\"\n",
    "Relativize to F0 of start phase\n",
    "\"\"\"\n",
    "\n",
    "subjects = df.subject.unique()\n",
    "conditions = df.condition.unique()\n",
    "\n",
    "# Subset only start phase trials with the prompt \"HECK\"\n",
    "selection = ((df.phasenum == 4) & (df.prompt == \"HECK\")).to_numpy()\n",
    "trial_f0 = summary_stats.avg[selection]\n",
    "trial_subject = df.subject[selection] \n",
    "trial_condition = df.condition[selection] \n",
    "\n",
    "# Get the baseline F0 for each subject\n",
    "f0s = {}\n",
    "for subject in subjects:\n",
    "    for condition in conditions:\n",
    "        selection = ((subject == trial_subject) & (condition == trial_condition)).to_numpy()\n",
    "        trials = trial_f0[selection]\n",
    "        f0 = trials.mean()\n",
    "        f0s[(subject, condition)] = f0\n",
    "\n",
    "# Subtract pitches from baseline F0 \n",
    "corrected_pitches = []\n",
    "\n",
    "# For each trial\n",
    "for i, trial_pitches in enumerate(df.pitches):\n",
    "        \n",
    "    # Get the subject's f0\n",
    "    subject = df.subject.to_numpy()[i]\n",
    "    condition = df.condition.to_numpy()[i]\n",
    "    f0 = f0s[(subject, condition)]\n",
    "    \n",
    "    # Subtract f0 from values\n",
    "    trial_corrected_pitches = trial_pitches - f0\n",
    "    \n",
    "    # Take mean\n",
    "    trial_corrected_pitches = trial_corrected_pitches.mean()\n",
    "    \n",
    "    # Save in new arrage\n",
    "    corrected_pitches.append(trial_corrected_pitches)\n",
    "    \n",
    "cleaned_df = df.drop(columns = ['pitches', 'num_trial', 'in_or_out'])\n",
    "cleaned_df['corrected_pitches'] = corrected_pitches"
   ]
  },
  {
   "cell_type": "code",
   "execution_count": 28,
   "metadata": {},
   "outputs": [
    {
     "name": "stdout",
     "output_type": "stream",
     "text": [
      "       subject condition  phasenum  num_rep  num_formed  num_uttered prompt  \\\n",
      "0           20        PU         5       44        2637           70   HECK   \n",
      "1           20        PU         5       36        2629           62   HECK   \n",
      "3           20        PU         6        6        2649           82   HECK   \n",
      "5           20        PU         1        1        2568            1   HECK   \n",
      "7           20        PU         5       39        2632           65   HECK   \n",
      "...        ...       ...       ...      ...         ...          ...    ...   \n",
      "43780       32       FAE         4       16         777           22   HECK   \n",
      "43783       32       FAE         6       29         860          105   HECK   \n",
      "43784       32       FAE         6       30         861          106   HECK   \n",
      "43785       32       FAE         5        9         790           35   HECK   \n",
      "43787       32       FAE         4       11         772           17   HECK   \n",
      "\n",
      "       date_run time_run  block  corrected_pitches  \n",
      "0      20170127       11      3          14.058371  \n",
      "1      20170127       11      3           9.318284  \n",
      "3      20170127       11      3          18.349280  \n",
      "5      20170127       11      3          -4.017213  \n",
      "7      20170127       11      3          14.822863  \n",
      "...         ...      ...    ...                ...  \n",
      "43780  20170301       11      2          -0.166468  \n",
      "43783  20170301       11      2           5.637083  \n",
      "43784  20170301       11      2           6.012935  \n",
      "43785  20170301       11      2           6.137960  \n",
      "43787  20170301       11      2          -4.390258  \n",
      "\n",
      "[18500 rows x 11 columns]\n"
     ]
    }
   ],
   "source": [
    "print(cleaned_df)"
   ]
  },
  {
   "cell_type": "code",
   "execution_count": 30,
   "metadata": {},
   "outputs": [],
   "source": [
    "\"\"\"\n",
    "Helper functions\n",
    "\"\"\"\n",
    "\n",
    "def subjects(df) -> Sequence[int]:\n",
    "    return list(df.subject.unique())\n",
    "\n",
    "PHASENUMS = [i for i in range(4, 8)]\n",
    "CONDITIONS = [\"PU\", \"PD\", \"FAE\", \"FIH\"]\n",
    "SUBJECTS = subjects(cleaned_df)\n",
    "\n",
    "phasenames = {\n",
    "    \"2\": \"pract2\",\n",
    "    \"3\": \"unk\",\n",
    "    \"4\": \"start\",\n",
    "    \"5\": \"ramp_up\",\n",
    "    \"6\": \"stay\",\n",
    "    \"7\": \"ramp_down\",\n",
    "    }\n",
    "    \n",
    "def individual_keys() -> Iterator[KeyType]:\n",
    "    for condition in CONDITIONS:\n",
    "        for phasenum in PHASENUMS:\n",
    "            for subject in SUBJECTS:\n",
    "                key = (condition, phasenum, subject)\n",
    "                yield key\n",
    "                \n",
    "def group_keys() -> Iterator[KeyType]:\n",
    "    for condition in CONDITIONS:\n",
    "        for phasenum in PHASENUMS:\n",
    "            key = (condition, phasenum)\n",
    "            yield key\n",
    "\n",
    "def subset_data(\n",
    "    df: pd.DataFrame,\n",
    "    *,\n",
    "    condition: Optional[str] = None,\n",
    "    phasenum: Optional[int] = None,\n",
    "    subject: Optional[int] = None,\n",
    ") -> pd.DataFrame:\n",
    "    \n",
    "    if condition is not None:\n",
    "        df = df[df.condition == condition]\n",
    "    \n",
    "    if phasenum is not None:\n",
    "        df = df[df.phasenum == phasenum]\n",
    "    \n",
    "    if subject is not None:\n",
    "        df = df[df.subject == subject]\n",
    "    \n",
    "    return df"
   ]
  },
  {
   "cell_type": "code",
   "execution_count": null,
   "metadata": {},
   "outputs": [],
   "source": [
    "\"\"\"\n",
    "Scatterplots for reps and change in pitch\n",
    "\"\"\"\n",
    "\n",
    "def plot_scatter(df: pd.DataFrame, phasenames: dict):\n",
    "    # Get phasename\n",
    "    phasename = phasenames[str(phasenum)]\n",
    "\n",
    "    # Plot\n",
    "    x = df.num_rep\n",
    "    y = df.corrected_pitches\n",
    "    colors = df.subject\n",
    "    plt.scatter(x, y, c = colors)\n",
    "    plt.title(phasename + \" phase for \" + condition)\n",
    "    plt.xlabel(\"Rep\")\n",
    "    plt.ylabel(\"Change in F0\")\n",
    "    plt.ylim([-100, 100])\n",
    "    plt.savefig(\"figs/\" + phasename + \"_\" + condition + \".png\")\n",
    "    plt.close()\n",
    "\n",
    "for key in group_keys():\n",
    "    condition, phasenum = key\n",
    "    plot_df = subset_data(cleaned_df, condition = condition, phasenum = phasenum)\n",
    "    plot_scatter(plot_df, phasenames)"
   ]
  },
  {
   "cell_type": "code",
   "execution_count": 79,
   "metadata": {},
   "outputs": [
    {
     "name": "stdout",
     "output_type": "stream",
     "text": [
      "No data for ('FIH', 7, 16)\n"
     ]
    }
   ],
   "source": [
    "\"\"\"\n",
    "Linear regression between rep and change in pitch for individual subjects\n",
    "\"\"\"\n",
    "\n",
    "subjects = cleaned_df.subject.unique()\n",
    "\n",
    "# Make data frame to fill\n",
    "\n",
    "def lin_reg(df: pd.DataFrame, phasenames: dict) -> Tuple[float, float]:\n",
    "    # Get phasename\n",
    "    phasename = phasenames[str(phasenum)]\n",
    "    \n",
    "    # Lin reg\n",
    "    x = df.num_rep.to_numpy().reshape(-1, 1)\n",
    "    y = df.corrected_pitches\n",
    "    y.fillna(y.mean(), inplace = True)\n",
    "    y = y.to_numpy().reshape(-1, 1)\n",
    "    if x.shape[0] == 0 and y.shape[0] == 0:\n",
    "        print(\"No data for\", (condition, phasenum, subject))\n",
    "        return None\n",
    "    ln = LinearRegression().fit(x, y)\n",
    "    a = ln.intercept_[0]\n",
    "    b = ln.coef_[0][0]\n",
    "    return a, b\n",
    "\n",
    "subject_regressions = []\n",
    "\n",
    "for key in individual_keys():\n",
    "    condition, phasenum, subject = key\n",
    "    lin_reg_df = subset_data(cleaned_df, condition = condition, phasenum = phasenum, subject = subject)\n",
    "    regression = lin_reg(lin_reg_df, phasenames)\n",
    "    if regression is None:\n",
    "        continue\n",
    "    a, b = regression\n",
    "    subject_regressions.append((phasenum, condition, subject, a, b))"
   ]
  },
  {
   "cell_type": "code",
   "execution_count": 80,
   "metadata": {},
   "outputs": [],
   "source": [
    "\"\"\"\n",
    "Linear regression between rep and change in pitch over all subjects\n",
    "\"\"\"\n",
    "group_regressions = []\n",
    "\n",
    "for key in group_keys():\n",
    "    condition, phasenum = key\n",
    "    lin_reg_df = subset_data(cleaned_df, condition = condition, phasenum = phasenum)\n",
    "    regression = lin_reg(lin_reg_df, phasenames)\n",
    "    if regression is None:\n",
    "        continue\n",
    "    a, b = regression\n",
    "    group_regressions.append((phasenum, condition, subject, a, b))"
   ]
  },
  {
   "cell_type": "code",
   "execution_count": 168,
   "metadata": {},
   "outputs": [
    {
     "name": "stdout",
     "output_type": "stream",
     "text": [
      "Fitting linear model for: ('PU', 4)\n"
     ]
    },
    {
     "name": "stderr",
     "output_type": "stream",
     "text": [
      "/opt/anaconda3/lib/python3.7/site-packages/ipykernel_launcher.py:56: FutureWarning: In v4.0, pm.sample will return an `arviz.InferenceData` object instead of a `MultiTrace` by default. You can pass return_inferencedata=True or return_inferencedata=False to be safe and silence this warning.\n",
      "Auto-assigning NUTS sampler...\n",
      "Initializing NUTS using jitter+adapt_diag...\n",
      "Sequential sampling (2 chains in 1 job)\n",
      "NUTS: [error, intercept, slope]\n"
     ]
    },
    {
     "data": {
      "text/html": [
       "\n",
       "    <div>\n",
       "        <style>\n",
       "            /* Turns off some styling */\n",
       "            progress {\n",
       "                /* gets rid of default border in Firefox and Opera. */\n",
       "                border: none;\n",
       "                /* Needs to be in here for Safari polyfill so background images work as expected. */\n",
       "                background-size: auto;\n",
       "            }\n",
       "            .progress-bar-interrupted, .progress-bar-interrupted::-webkit-progress-bar {\n",
       "                background: #F44336;\n",
       "            }\n",
       "        </style>\n",
       "      <progress value='2000' class='' max='2000' style='width:300px; height:20px; vertical-align: middle;'></progress>\n",
       "      100.00% [2000/2000 00:02<00:00 Sampling chain 0, 0 divergences]\n",
       "    </div>\n",
       "    "
      ],
      "text/plain": [
       "<IPython.core.display.HTML object>"
      ]
     },
     "metadata": {},
     "output_type": "display_data"
    },
    {
     "data": {
      "text/html": [
       "\n",
       "    <div>\n",
       "        <style>\n",
       "            /* Turns off some styling */\n",
       "            progress {\n",
       "                /* gets rid of default border in Firefox and Opera. */\n",
       "                border: none;\n",
       "                /* Needs to be in here for Safari polyfill so background images work as expected. */\n",
       "                background-size: auto;\n",
       "            }\n",
       "            .progress-bar-interrupted, .progress-bar-interrupted::-webkit-progress-bar {\n",
       "                background: #F44336;\n",
       "            }\n",
       "        </style>\n",
       "      <progress value='2000' class='' max='2000' style='width:300px; height:20px; vertical-align: middle;'></progress>\n",
       "      100.00% [2000/2000 00:02<00:00 Sampling chain 1, 0 divergences]\n",
       "    </div>\n",
       "    "
      ],
      "text/plain": [
       "<IPython.core.display.HTML object>"
      ]
     },
     "metadata": {},
     "output_type": "display_data"
    },
    {
     "name": "stderr",
     "output_type": "stream",
     "text": [
      "Sampling 2 chains for 1_000 tune and 1_000 draw iterations (2_000 + 2_000 draws total) took 6 seconds.\n",
      "The acceptance probability does not match the target. It is 0.8888963114891927, but should be close to 0.8. Try to increase the number of tuning steps.\n"
     ]
    },
    {
     "name": "stdout",
     "output_type": "stream",
     "text": [
      "Fitting linear model for: ('PU', 5)\n"
     ]
    },
    {
     "name": "stderr",
     "output_type": "stream",
     "text": [
      "/opt/anaconda3/lib/python3.7/site-packages/pymc3/model.py:1755: ImputationWarning: Data in observation contains missing values and will be automatically imputed from the sampling distribution.\n",
      "  if self.distribution is None:\n",
      "/opt/anaconda3/lib/python3.7/site-packages/ipykernel_launcher.py:56: FutureWarning: In v4.0, pm.sample will return an `arviz.InferenceData` object instead of a `MultiTrace` by default. You can pass return_inferencedata=True or return_inferencedata=False to be safe and silence this warning.\n",
      "Auto-assigning NUTS sampler...\n",
      "Initializing NUTS using jitter+adapt_diag...\n",
      "Sequential sampling (2 chains in 1 job)\n",
      "NUTS: [observation_missing, error, intercept, slope]\n"
     ]
    },
    {
     "data": {
      "text/html": [
       "\n",
       "    <div>\n",
       "        <style>\n",
       "            /* Turns off some styling */\n",
       "            progress {\n",
       "                /* gets rid of default border in Firefox and Opera. */\n",
       "                border: none;\n",
       "                /* Needs to be in here for Safari polyfill so background images work as expected. */\n",
       "                background-size: auto;\n",
       "            }\n",
       "            .progress-bar-interrupted, .progress-bar-interrupted::-webkit-progress-bar {\n",
       "                background: #F44336;\n",
       "            }\n",
       "        </style>\n",
       "      <progress value='2000' class='' max='2000' style='width:300px; height:20px; vertical-align: middle;'></progress>\n",
       "      100.00% [2000/2000 00:04<00:00 Sampling chain 0, 0 divergences]\n",
       "    </div>\n",
       "    "
      ],
      "text/plain": [
       "<IPython.core.display.HTML object>"
      ]
     },
     "metadata": {},
     "output_type": "display_data"
    },
    {
     "data": {
      "text/html": [
       "\n",
       "    <div>\n",
       "        <style>\n",
       "            /* Turns off some styling */\n",
       "            progress {\n",
       "                /* gets rid of default border in Firefox and Opera. */\n",
       "                border: none;\n",
       "                /* Needs to be in here for Safari polyfill so background images work as expected. */\n",
       "                background-size: auto;\n",
       "            }\n",
       "            .progress-bar-interrupted, .progress-bar-interrupted::-webkit-progress-bar {\n",
       "                background: #F44336;\n",
       "            }\n",
       "        </style>\n",
       "      <progress value='2000' class='' max='2000' style='width:300px; height:20px; vertical-align: middle;'></progress>\n",
       "      100.00% [2000/2000 00:04<00:00 Sampling chain 1, 0 divergences]\n",
       "    </div>\n",
       "    "
      ],
      "text/plain": [
       "<IPython.core.display.HTML object>"
      ]
     },
     "metadata": {},
     "output_type": "display_data"
    },
    {
     "name": "stderr",
     "output_type": "stream",
     "text": [
      "Sampling 2 chains for 1_000 tune and 1_000 draw iterations (2_000 + 2_000 draws total) took 9 seconds.\n"
     ]
    },
    {
     "name": "stdout",
     "output_type": "stream",
     "text": [
      "Fitting linear model for: ('PU', 6)\n"
     ]
    },
    {
     "name": "stderr",
     "output_type": "stream",
     "text": [
      "/opt/anaconda3/lib/python3.7/site-packages/pymc3/model.py:1755: ImputationWarning: Data in observation contains missing values and will be automatically imputed from the sampling distribution.\n",
      "  if self.distribution is None:\n",
      "/opt/anaconda3/lib/python3.7/site-packages/ipykernel_launcher.py:56: FutureWarning: In v4.0, pm.sample will return an `arviz.InferenceData` object instead of a `MultiTrace` by default. You can pass return_inferencedata=True or return_inferencedata=False to be safe and silence this warning.\n",
      "Auto-assigning NUTS sampler...\n",
      "Initializing NUTS using jitter+adapt_diag...\n",
      "Sequential sampling (2 chains in 1 job)\n",
      "NUTS: [observation_missing, error, intercept, slope]\n"
     ]
    },
    {
     "data": {
      "text/html": [
       "\n",
       "    <div>\n",
       "        <style>\n",
       "            /* Turns off some styling */\n",
       "            progress {\n",
       "                /* gets rid of default border in Firefox and Opera. */\n",
       "                border: none;\n",
       "                /* Needs to be in here for Safari polyfill so background images work as expected. */\n",
       "                background-size: auto;\n",
       "            }\n",
       "            .progress-bar-interrupted, .progress-bar-interrupted::-webkit-progress-bar {\n",
       "                background: #F44336;\n",
       "            }\n",
       "        </style>\n",
       "      <progress value='2000' class='' max='2000' style='width:300px; height:20px; vertical-align: middle;'></progress>\n",
       "      100.00% [2000/2000 00:06<00:00 Sampling chain 0, 0 divergences]\n",
       "    </div>\n",
       "    "
      ],
      "text/plain": [
       "<IPython.core.display.HTML object>"
      ]
     },
     "metadata": {},
     "output_type": "display_data"
    },
    {
     "data": {
      "text/html": [
       "\n",
       "    <div>\n",
       "        <style>\n",
       "            /* Turns off some styling */\n",
       "            progress {\n",
       "                /* gets rid of default border in Firefox and Opera. */\n",
       "                border: none;\n",
       "                /* Needs to be in here for Safari polyfill so background images work as expected. */\n",
       "                background-size: auto;\n",
       "            }\n",
       "            .progress-bar-interrupted, .progress-bar-interrupted::-webkit-progress-bar {\n",
       "                background: #F44336;\n",
       "            }\n",
       "        </style>\n",
       "      <progress value='2000' class='' max='2000' style='width:300px; height:20px; vertical-align: middle;'></progress>\n",
       "      100.00% [2000/2000 00:05<00:00 Sampling chain 1, 0 divergences]\n",
       "    </div>\n",
       "    "
      ],
      "text/plain": [
       "<IPython.core.display.HTML object>"
      ]
     },
     "metadata": {},
     "output_type": "display_data"
    },
    {
     "name": "stderr",
     "output_type": "stream",
     "text": [
      "Sampling 2 chains for 1_000 tune and 1_000 draw iterations (2_000 + 2_000 draws total) took 12 seconds.\n",
      "The acceptance probability does not match the target. It is 0.8851962497339542, but should be close to 0.8. Try to increase the number of tuning steps.\n"
     ]
    },
    {
     "name": "stdout",
     "output_type": "stream",
     "text": [
      "Fitting linear model for: ('PU', 7)\n"
     ]
    },
    {
     "name": "stderr",
     "output_type": "stream",
     "text": [
      "/opt/anaconda3/lib/python3.7/site-packages/pymc3/model.py:1755: ImputationWarning: Data in observation contains missing values and will be automatically imputed from the sampling distribution.\n",
      "  if self.distribution is None:\n",
      "/opt/anaconda3/lib/python3.7/site-packages/ipykernel_launcher.py:56: FutureWarning: In v4.0, pm.sample will return an `arviz.InferenceData` object instead of a `MultiTrace` by default. You can pass return_inferencedata=True or return_inferencedata=False to be safe and silence this warning.\n",
      "Auto-assigning NUTS sampler...\n",
      "Initializing NUTS using jitter+adapt_diag...\n",
      "Sequential sampling (2 chains in 1 job)\n",
      "NUTS: [observation_missing, error, intercept, slope]\n"
     ]
    },
    {
     "data": {
      "text/html": [
       "\n",
       "    <div>\n",
       "        <style>\n",
       "            /* Turns off some styling */\n",
       "            progress {\n",
       "                /* gets rid of default border in Firefox and Opera. */\n",
       "                border: none;\n",
       "                /* Needs to be in here for Safari polyfill so background images work as expected. */\n",
       "                background-size: auto;\n",
       "            }\n",
       "            .progress-bar-interrupted, .progress-bar-interrupted::-webkit-progress-bar {\n",
       "                background: #F44336;\n",
       "            }\n",
       "        </style>\n",
       "      <progress value='2000' class='' max='2000' style='width:300px; height:20px; vertical-align: middle;'></progress>\n",
       "      100.00% [2000/2000 00:04<00:00 Sampling chain 0, 0 divergences]\n",
       "    </div>\n",
       "    "
      ],
      "text/plain": [
       "<IPython.core.display.HTML object>"
      ]
     },
     "metadata": {},
     "output_type": "display_data"
    },
    {
     "data": {
      "text/html": [
       "\n",
       "    <div>\n",
       "        <style>\n",
       "            /* Turns off some styling */\n",
       "            progress {\n",
       "                /* gets rid of default border in Firefox and Opera. */\n",
       "                border: none;\n",
       "                /* Needs to be in here for Safari polyfill so background images work as expected. */\n",
       "                background-size: auto;\n",
       "            }\n",
       "            .progress-bar-interrupted, .progress-bar-interrupted::-webkit-progress-bar {\n",
       "                background: #F44336;\n",
       "            }\n",
       "        </style>\n",
       "      <progress value='2000' class='' max='2000' style='width:300px; height:20px; vertical-align: middle;'></progress>\n",
       "      100.00% [2000/2000 00:03<00:00 Sampling chain 1, 0 divergences]\n",
       "    </div>\n",
       "    "
      ],
      "text/plain": [
       "<IPython.core.display.HTML object>"
      ]
     },
     "metadata": {},
     "output_type": "display_data"
    },
    {
     "name": "stderr",
     "output_type": "stream",
     "text": [
      "Sampling 2 chains for 1_000 tune and 1_000 draw iterations (2_000 + 2_000 draws total) took 9 seconds.\n"
     ]
    },
    {
     "name": "stdout",
     "output_type": "stream",
     "text": [
      "Fitting linear model for: ('PD', 4)\n"
     ]
    },
    {
     "name": "stderr",
     "output_type": "stream",
     "text": [
      "/opt/anaconda3/lib/python3.7/site-packages/pymc3/model.py:1755: ImputationWarning: Data in observation contains missing values and will be automatically imputed from the sampling distribution.\n",
      "  if self.distribution is None:\n",
      "/opt/anaconda3/lib/python3.7/site-packages/ipykernel_launcher.py:56: FutureWarning: In v4.0, pm.sample will return an `arviz.InferenceData` object instead of a `MultiTrace` by default. You can pass return_inferencedata=True or return_inferencedata=False to be safe and silence this warning.\n",
      "Auto-assigning NUTS sampler...\n",
      "Initializing NUTS using jitter+adapt_diag...\n",
      "Sequential sampling (2 chains in 1 job)\n",
      "NUTS: [observation_missing, error, intercept, slope]\n"
     ]
    },
    {
     "data": {
      "text/html": [
       "\n",
       "    <div>\n",
       "        <style>\n",
       "            /* Turns off some styling */\n",
       "            progress {\n",
       "                /* gets rid of default border in Firefox and Opera. */\n",
       "                border: none;\n",
       "                /* Needs to be in here for Safari polyfill so background images work as expected. */\n",
       "                background-size: auto;\n",
       "            }\n",
       "            .progress-bar-interrupted, .progress-bar-interrupted::-webkit-progress-bar {\n",
       "                background: #F44336;\n",
       "            }\n",
       "        </style>\n",
       "      <progress value='2000' class='' max='2000' style='width:300px; height:20px; vertical-align: middle;'></progress>\n",
       "      100.00% [2000/2000 00:03<00:00 Sampling chain 0, 0 divergences]\n",
       "    </div>\n",
       "    "
      ],
      "text/plain": [
       "<IPython.core.display.HTML object>"
      ]
     },
     "metadata": {},
     "output_type": "display_data"
    },
    {
     "data": {
      "text/html": [
       "\n",
       "    <div>\n",
       "        <style>\n",
       "            /* Turns off some styling */\n",
       "            progress {\n",
       "                /* gets rid of default border in Firefox and Opera. */\n",
       "                border: none;\n",
       "                /* Needs to be in here for Safari polyfill so background images work as expected. */\n",
       "                background-size: auto;\n",
       "            }\n",
       "            .progress-bar-interrupted, .progress-bar-interrupted::-webkit-progress-bar {\n",
       "                background: #F44336;\n",
       "            }\n",
       "        </style>\n",
       "      <progress value='2000' class='' max='2000' style='width:300px; height:20px; vertical-align: middle;'></progress>\n",
       "      100.00% [2000/2000 00:04<00:00 Sampling chain 1, 0 divergences]\n",
       "    </div>\n",
       "    "
      ],
      "text/plain": [
       "<IPython.core.display.HTML object>"
      ]
     },
     "metadata": {},
     "output_type": "display_data"
    },
    {
     "name": "stderr",
     "output_type": "stream",
     "text": [
      "Sampling 2 chains for 1_000 tune and 1_000 draw iterations (2_000 + 2_000 draws total) took 8 seconds.\n",
      "The acceptance probability does not match the target. It is 0.879785281892036, but should be close to 0.8. Try to increase the number of tuning steps.\n"
     ]
    },
    {
     "name": "stdout",
     "output_type": "stream",
     "text": [
      "Fitting linear model for: ('PD', 5)\n"
     ]
    },
    {
     "name": "stderr",
     "output_type": "stream",
     "text": [
      "/opt/anaconda3/lib/python3.7/site-packages/pymc3/model.py:1755: ImputationWarning: Data in observation contains missing values and will be automatically imputed from the sampling distribution.\n",
      "  if self.distribution is None:\n",
      "/opt/anaconda3/lib/python3.7/site-packages/ipykernel_launcher.py:56: FutureWarning: In v4.0, pm.sample will return an `arviz.InferenceData` object instead of a `MultiTrace` by default. You can pass return_inferencedata=True or return_inferencedata=False to be safe and silence this warning.\n",
      "Auto-assigning NUTS sampler...\n",
      "Initializing NUTS using jitter+adapt_diag...\n",
      "Sequential sampling (2 chains in 1 job)\n",
      "NUTS: [observation_missing, error, intercept, slope]\n"
     ]
    },
    {
     "data": {
      "text/html": [
       "\n",
       "    <div>\n",
       "        <style>\n",
       "            /* Turns off some styling */\n",
       "            progress {\n",
       "                /* gets rid of default border in Firefox and Opera. */\n",
       "                border: none;\n",
       "                /* Needs to be in here for Safari polyfill so background images work as expected. */\n",
       "                background-size: auto;\n",
       "            }\n",
       "            .progress-bar-interrupted, .progress-bar-interrupted::-webkit-progress-bar {\n",
       "                background: #F44336;\n",
       "            }\n",
       "        </style>\n",
       "      <progress value='2000' class='' max='2000' style='width:300px; height:20px; vertical-align: middle;'></progress>\n",
       "      100.00% [2000/2000 00:04<00:00 Sampling chain 0, 0 divergences]\n",
       "    </div>\n",
       "    "
      ],
      "text/plain": [
       "<IPython.core.display.HTML object>"
      ]
     },
     "metadata": {},
     "output_type": "display_data"
    },
    {
     "data": {
      "text/html": [
       "\n",
       "    <div>\n",
       "        <style>\n",
       "            /* Turns off some styling */\n",
       "            progress {\n",
       "                /* gets rid of default border in Firefox and Opera. */\n",
       "                border: none;\n",
       "                /* Needs to be in here for Safari polyfill so background images work as expected. */\n",
       "                background-size: auto;\n",
       "            }\n",
       "            .progress-bar-interrupted, .progress-bar-interrupted::-webkit-progress-bar {\n",
       "                background: #F44336;\n",
       "            }\n",
       "        </style>\n",
       "      <progress value='2000' class='' max='2000' style='width:300px; height:20px; vertical-align: middle;'></progress>\n",
       "      100.00% [2000/2000 00:04<00:00 Sampling chain 1, 0 divergences]\n",
       "    </div>\n",
       "    "
      ],
      "text/plain": [
       "<IPython.core.display.HTML object>"
      ]
     },
     "metadata": {},
     "output_type": "display_data"
    },
    {
     "name": "stderr",
     "output_type": "stream",
     "text": [
      "Sampling 2 chains for 1_000 tune and 1_000 draw iterations (2_000 + 2_000 draws total) took 9 seconds.\n"
     ]
    },
    {
     "name": "stdout",
     "output_type": "stream",
     "text": [
      "Fitting linear model for: ('PD', 6)\n"
     ]
    },
    {
     "name": "stderr",
     "output_type": "stream",
     "text": [
      "/opt/anaconda3/lib/python3.7/site-packages/pymc3/model.py:1755: ImputationWarning: Data in observation contains missing values and will be automatically imputed from the sampling distribution.\n",
      "  if self.distribution is None:\n",
      "/opt/anaconda3/lib/python3.7/site-packages/ipykernel_launcher.py:56: FutureWarning: In v4.0, pm.sample will return an `arviz.InferenceData` object instead of a `MultiTrace` by default. You can pass return_inferencedata=True or return_inferencedata=False to be safe and silence this warning.\n",
      "Auto-assigning NUTS sampler...\n",
      "Initializing NUTS using jitter+adapt_diag...\n",
      "Sequential sampling (2 chains in 1 job)\n",
      "NUTS: [observation_missing, error, intercept, slope]\n"
     ]
    },
    {
     "data": {
      "text/html": [
       "\n",
       "    <div>\n",
       "        <style>\n",
       "            /* Turns off some styling */\n",
       "            progress {\n",
       "                /* gets rid of default border in Firefox and Opera. */\n",
       "                border: none;\n",
       "                /* Needs to be in here for Safari polyfill so background images work as expected. */\n",
       "                background-size: auto;\n",
       "            }\n",
       "            .progress-bar-interrupted, .progress-bar-interrupted::-webkit-progress-bar {\n",
       "                background: #F44336;\n",
       "            }\n",
       "        </style>\n",
       "      <progress value='2000' class='' max='2000' style='width:300px; height:20px; vertical-align: middle;'></progress>\n",
       "      100.00% [2000/2000 00:04<00:00 Sampling chain 0, 0 divergences]\n",
       "    </div>\n",
       "    "
      ],
      "text/plain": [
       "<IPython.core.display.HTML object>"
      ]
     },
     "metadata": {},
     "output_type": "display_data"
    },
    {
     "data": {
      "text/html": [
       "\n",
       "    <div>\n",
       "        <style>\n",
       "            /* Turns off some styling */\n",
       "            progress {\n",
       "                /* gets rid of default border in Firefox and Opera. */\n",
       "                border: none;\n",
       "                /* Needs to be in here for Safari polyfill so background images work as expected. */\n",
       "                background-size: auto;\n",
       "            }\n",
       "            .progress-bar-interrupted, .progress-bar-interrupted::-webkit-progress-bar {\n",
       "                background: #F44336;\n",
       "            }\n",
       "        </style>\n",
       "      <progress value='2000' class='' max='2000' style='width:300px; height:20px; vertical-align: middle;'></progress>\n",
       "      100.00% [2000/2000 00:04<00:00 Sampling chain 1, 0 divergences]\n",
       "    </div>\n",
       "    "
      ],
      "text/plain": [
       "<IPython.core.display.HTML object>"
      ]
     },
     "metadata": {},
     "output_type": "display_data"
    },
    {
     "name": "stderr",
     "output_type": "stream",
     "text": [
      "Sampling 2 chains for 1_000 tune and 1_000 draw iterations (2_000 + 2_000 draws total) took 8 seconds.\n"
     ]
    },
    {
     "name": "stdout",
     "output_type": "stream",
     "text": [
      "Fitting linear model for: ('PD', 7)\n"
     ]
    },
    {
     "name": "stderr",
     "output_type": "stream",
     "text": [
      "/opt/anaconda3/lib/python3.7/site-packages/pymc3/model.py:1755: ImputationWarning: Data in observation contains missing values and will be automatically imputed from the sampling distribution.\n",
      "  if self.distribution is None:\n",
      "/opt/anaconda3/lib/python3.7/site-packages/ipykernel_launcher.py:56: FutureWarning: In v4.0, pm.sample will return an `arviz.InferenceData` object instead of a `MultiTrace` by default. You can pass return_inferencedata=True or return_inferencedata=False to be safe and silence this warning.\n",
      "Auto-assigning NUTS sampler...\n",
      "Initializing NUTS using jitter+adapt_diag...\n",
      "Sequential sampling (2 chains in 1 job)\n",
      "NUTS: [observation_missing, error, intercept, slope]\n"
     ]
    },
    {
     "data": {
      "text/html": [
       "\n",
       "    <div>\n",
       "        <style>\n",
       "            /* Turns off some styling */\n",
       "            progress {\n",
       "                /* gets rid of default border in Firefox and Opera. */\n",
       "                border: none;\n",
       "                /* Needs to be in here for Safari polyfill so background images work as expected. */\n",
       "                background-size: auto;\n",
       "            }\n",
       "            .progress-bar-interrupted, .progress-bar-interrupted::-webkit-progress-bar {\n",
       "                background: #F44336;\n",
       "            }\n",
       "        </style>\n",
       "      <progress value='2000' class='' max='2000' style='width:300px; height:20px; vertical-align: middle;'></progress>\n",
       "      100.00% [2000/2000 00:04<00:00 Sampling chain 0, 0 divergences]\n",
       "    </div>\n",
       "    "
      ],
      "text/plain": [
       "<IPython.core.display.HTML object>"
      ]
     },
     "metadata": {},
     "output_type": "display_data"
    },
    {
     "data": {
      "text/html": [
       "\n",
       "    <div>\n",
       "        <style>\n",
       "            /* Turns off some styling */\n",
       "            progress {\n",
       "                /* gets rid of default border in Firefox and Opera. */\n",
       "                border: none;\n",
       "                /* Needs to be in here for Safari polyfill so background images work as expected. */\n",
       "                background-size: auto;\n",
       "            }\n",
       "            .progress-bar-interrupted, .progress-bar-interrupted::-webkit-progress-bar {\n",
       "                background: #F44336;\n",
       "            }\n",
       "        </style>\n",
       "      <progress value='2000' class='' max='2000' style='width:300px; height:20px; vertical-align: middle;'></progress>\n",
       "      100.00% [2000/2000 00:04<00:00 Sampling chain 1, 0 divergences]\n",
       "    </div>\n",
       "    "
      ],
      "text/plain": [
       "<IPython.core.display.HTML object>"
      ]
     },
     "metadata": {},
     "output_type": "display_data"
    },
    {
     "name": "stderr",
     "output_type": "stream",
     "text": [
      "Sampling 2 chains for 1_000 tune and 1_000 draw iterations (2_000 + 2_000 draws total) took 9 seconds.\n",
      "The acceptance probability does not match the target. It is 0.8860053615857769, but should be close to 0.8. Try to increase the number of tuning steps.\n"
     ]
    },
    {
     "name": "stdout",
     "output_type": "stream",
     "text": [
      "Fitting linear model for: ('FAE', 4)\n"
     ]
    },
    {
     "name": "stderr",
     "output_type": "stream",
     "text": [
      "/opt/anaconda3/lib/python3.7/site-packages/pymc3/model.py:1755: ImputationWarning: Data in observation contains missing values and will be automatically imputed from the sampling distribution.\n",
      "  if self.distribution is None:\n",
      "/opt/anaconda3/lib/python3.7/site-packages/ipykernel_launcher.py:56: FutureWarning: In v4.0, pm.sample will return an `arviz.InferenceData` object instead of a `MultiTrace` by default. You can pass return_inferencedata=True or return_inferencedata=False to be safe and silence this warning.\n",
      "Auto-assigning NUTS sampler...\n",
      "Initializing NUTS using jitter+adapt_diag...\n",
      "Sequential sampling (2 chains in 1 job)\n",
      "NUTS: [observation_missing, error, intercept, slope]\n"
     ]
    },
    {
     "data": {
      "text/html": [
       "\n",
       "    <div>\n",
       "        <style>\n",
       "            /* Turns off some styling */\n",
       "            progress {\n",
       "                /* gets rid of default border in Firefox and Opera. */\n",
       "                border: none;\n",
       "                /* Needs to be in here for Safari polyfill so background images work as expected. */\n",
       "                background-size: auto;\n",
       "            }\n",
       "            .progress-bar-interrupted, .progress-bar-interrupted::-webkit-progress-bar {\n",
       "                background: #F44336;\n",
       "            }\n",
       "        </style>\n",
       "      <progress value='2000' class='' max='2000' style='width:300px; height:20px; vertical-align: middle;'></progress>\n",
       "      100.00% [2000/2000 00:04<00:00 Sampling chain 0, 0 divergences]\n",
       "    </div>\n",
       "    "
      ],
      "text/plain": [
       "<IPython.core.display.HTML object>"
      ]
     },
     "metadata": {},
     "output_type": "display_data"
    },
    {
     "data": {
      "text/html": [
       "\n",
       "    <div>\n",
       "        <style>\n",
       "            /* Turns off some styling */\n",
       "            progress {\n",
       "                /* gets rid of default border in Firefox and Opera. */\n",
       "                border: none;\n",
       "                /* Needs to be in here for Safari polyfill so background images work as expected. */\n",
       "                background-size: auto;\n",
       "            }\n",
       "            .progress-bar-interrupted, .progress-bar-interrupted::-webkit-progress-bar {\n",
       "                background: #F44336;\n",
       "            }\n",
       "        </style>\n",
       "      <progress value='2000' class='' max='2000' style='width:300px; height:20px; vertical-align: middle;'></progress>\n",
       "      100.00% [2000/2000 00:03<00:00 Sampling chain 1, 0 divergences]\n",
       "    </div>\n",
       "    "
      ],
      "text/plain": [
       "<IPython.core.display.HTML object>"
      ]
     },
     "metadata": {},
     "output_type": "display_data"
    },
    {
     "name": "stderr",
     "output_type": "stream",
     "text": [
      "Sampling 2 chains for 1_000 tune and 1_000 draw iterations (2_000 + 2_000 draws total) took 8 seconds.\n"
     ]
    },
    {
     "name": "stdout",
     "output_type": "stream",
     "text": [
      "Fitting linear model for: ('FAE', 5)\n"
     ]
    },
    {
     "name": "stderr",
     "output_type": "stream",
     "text": [
      "/opt/anaconda3/lib/python3.7/site-packages/pymc3/model.py:1755: ImputationWarning: Data in observation contains missing values and will be automatically imputed from the sampling distribution.\n",
      "  if self.distribution is None:\n",
      "/opt/anaconda3/lib/python3.7/site-packages/ipykernel_launcher.py:56: FutureWarning: In v4.0, pm.sample will return an `arviz.InferenceData` object instead of a `MultiTrace` by default. You can pass return_inferencedata=True or return_inferencedata=False to be safe and silence this warning.\n",
      "Auto-assigning NUTS sampler...\n",
      "Initializing NUTS using jitter+adapt_diag...\n",
      "Sequential sampling (2 chains in 1 job)\n",
      "NUTS: [observation_missing, error, intercept, slope]\n"
     ]
    },
    {
     "data": {
      "text/html": [
       "\n",
       "    <div>\n",
       "        <style>\n",
       "            /* Turns off some styling */\n",
       "            progress {\n",
       "                /* gets rid of default border in Firefox and Opera. */\n",
       "                border: none;\n",
       "                /* Needs to be in here for Safari polyfill so background images work as expected. */\n",
       "                background-size: auto;\n",
       "            }\n",
       "            .progress-bar-interrupted, .progress-bar-interrupted::-webkit-progress-bar {\n",
       "                background: #F44336;\n",
       "            }\n",
       "        </style>\n",
       "      <progress value='2000' class='' max='2000' style='width:300px; height:20px; vertical-align: middle;'></progress>\n",
       "      100.00% [2000/2000 00:06<00:00 Sampling chain 0, 0 divergences]\n",
       "    </div>\n",
       "    "
      ],
      "text/plain": [
       "<IPython.core.display.HTML object>"
      ]
     },
     "metadata": {},
     "output_type": "display_data"
    },
    {
     "data": {
      "text/html": [
       "\n",
       "    <div>\n",
       "        <style>\n",
       "            /* Turns off some styling */\n",
       "            progress {\n",
       "                /* gets rid of default border in Firefox and Opera. */\n",
       "                border: none;\n",
       "                /* Needs to be in here for Safari polyfill so background images work as expected. */\n",
       "                background-size: auto;\n",
       "            }\n",
       "            .progress-bar-interrupted, .progress-bar-interrupted::-webkit-progress-bar {\n",
       "                background: #F44336;\n",
       "            }\n",
       "        </style>\n",
       "      <progress value='2000' class='' max='2000' style='width:300px; height:20px; vertical-align: middle;'></progress>\n",
       "      100.00% [2000/2000 00:06<00:00 Sampling chain 1, 0 divergences]\n",
       "    </div>\n",
       "    "
      ],
      "text/plain": [
       "<IPython.core.display.HTML object>"
      ]
     },
     "metadata": {},
     "output_type": "display_data"
    },
    {
     "name": "stderr",
     "output_type": "stream",
     "text": [
      "Sampling 2 chains for 1_000 tune and 1_000 draw iterations (2_000 + 2_000 draws total) took 13 seconds.\n"
     ]
    },
    {
     "name": "stdout",
     "output_type": "stream",
     "text": [
      "Fitting linear model for: ('FAE', 6)\n"
     ]
    },
    {
     "name": "stderr",
     "output_type": "stream",
     "text": [
      "/opt/anaconda3/lib/python3.7/site-packages/pymc3/model.py:1755: ImputationWarning: Data in observation contains missing values and will be automatically imputed from the sampling distribution.\n",
      "  if self.distribution is None:\n",
      "/opt/anaconda3/lib/python3.7/site-packages/ipykernel_launcher.py:56: FutureWarning: In v4.0, pm.sample will return an `arviz.InferenceData` object instead of a `MultiTrace` by default. You can pass return_inferencedata=True or return_inferencedata=False to be safe and silence this warning.\n",
      "Auto-assigning NUTS sampler...\n",
      "Initializing NUTS using jitter+adapt_diag...\n",
      "Sequential sampling (2 chains in 1 job)\n",
      "NUTS: [observation_missing, error, intercept, slope]\n"
     ]
    },
    {
     "data": {
      "text/html": [
       "\n",
       "    <div>\n",
       "        <style>\n",
       "            /* Turns off some styling */\n",
       "            progress {\n",
       "                /* gets rid of default border in Firefox and Opera. */\n",
       "                border: none;\n",
       "                /* Needs to be in here for Safari polyfill so background images work as expected. */\n",
       "                background-size: auto;\n",
       "            }\n",
       "            .progress-bar-interrupted, .progress-bar-interrupted::-webkit-progress-bar {\n",
       "                background: #F44336;\n",
       "            }\n",
       "        </style>\n",
       "      <progress value='2000' class='' max='2000' style='width:300px; height:20px; vertical-align: middle;'></progress>\n",
       "      100.00% [2000/2000 00:07<00:00 Sampling chain 0, 0 divergences]\n",
       "    </div>\n",
       "    "
      ],
      "text/plain": [
       "<IPython.core.display.HTML object>"
      ]
     },
     "metadata": {},
     "output_type": "display_data"
    },
    {
     "data": {
      "text/html": [
       "\n",
       "    <div>\n",
       "        <style>\n",
       "            /* Turns off some styling */\n",
       "            progress {\n",
       "                /* gets rid of default border in Firefox and Opera. */\n",
       "                border: none;\n",
       "                /* Needs to be in here for Safari polyfill so background images work as expected. */\n",
       "                background-size: auto;\n",
       "            }\n",
       "            .progress-bar-interrupted, .progress-bar-interrupted::-webkit-progress-bar {\n",
       "                background: #F44336;\n",
       "            }\n",
       "        </style>\n",
       "      <progress value='2000' class='' max='2000' style='width:300px; height:20px; vertical-align: middle;'></progress>\n",
       "      100.00% [2000/2000 00:06<00:00 Sampling chain 1, 0 divergences]\n",
       "    </div>\n",
       "    "
      ],
      "text/plain": [
       "<IPython.core.display.HTML object>"
      ]
     },
     "metadata": {},
     "output_type": "display_data"
    },
    {
     "name": "stderr",
     "output_type": "stream",
     "text": [
      "Sampling 2 chains for 1_000 tune and 1_000 draw iterations (2_000 + 2_000 draws total) took 14 seconds.\n"
     ]
    },
    {
     "name": "stdout",
     "output_type": "stream",
     "text": [
      "Fitting linear model for: ('FAE', 7)\n"
     ]
    },
    {
     "name": "stderr",
     "output_type": "stream",
     "text": [
      "/opt/anaconda3/lib/python3.7/site-packages/pymc3/model.py:1755: ImputationWarning: Data in observation contains missing values and will be automatically imputed from the sampling distribution.\n",
      "  if self.distribution is None:\n",
      "/opt/anaconda3/lib/python3.7/site-packages/ipykernel_launcher.py:56: FutureWarning: In v4.0, pm.sample will return an `arviz.InferenceData` object instead of a `MultiTrace` by default. You can pass return_inferencedata=True or return_inferencedata=False to be safe and silence this warning.\n",
      "Auto-assigning NUTS sampler...\n",
      "Initializing NUTS using jitter+adapt_diag...\n",
      "Sequential sampling (2 chains in 1 job)\n",
      "NUTS: [observation_missing, error, intercept, slope]\n"
     ]
    },
    {
     "data": {
      "text/html": [
       "\n",
       "    <div>\n",
       "        <style>\n",
       "            /* Turns off some styling */\n",
       "            progress {\n",
       "                /* gets rid of default border in Firefox and Opera. */\n",
       "                border: none;\n",
       "                /* Needs to be in here for Safari polyfill so background images work as expected. */\n",
       "                background-size: auto;\n",
       "            }\n",
       "            .progress-bar-interrupted, .progress-bar-interrupted::-webkit-progress-bar {\n",
       "                background: #F44336;\n",
       "            }\n",
       "        </style>\n",
       "      <progress value='2000' class='' max='2000' style='width:300px; height:20px; vertical-align: middle;'></progress>\n",
       "      100.00% [2000/2000 00:03<00:00 Sampling chain 0, 0 divergences]\n",
       "    </div>\n",
       "    "
      ],
      "text/plain": [
       "<IPython.core.display.HTML object>"
      ]
     },
     "metadata": {},
     "output_type": "display_data"
    },
    {
     "data": {
      "text/html": [
       "\n",
       "    <div>\n",
       "        <style>\n",
       "            /* Turns off some styling */\n",
       "            progress {\n",
       "                /* gets rid of default border in Firefox and Opera. */\n",
       "                border: none;\n",
       "                /* Needs to be in here for Safari polyfill so background images work as expected. */\n",
       "                background-size: auto;\n",
       "            }\n",
       "            .progress-bar-interrupted, .progress-bar-interrupted::-webkit-progress-bar {\n",
       "                background: #F44336;\n",
       "            }\n",
       "        </style>\n",
       "      <progress value='2000' class='' max='2000' style='width:300px; height:20px; vertical-align: middle;'></progress>\n",
       "      100.00% [2000/2000 00:03<00:00 Sampling chain 1, 0 divergences]\n",
       "    </div>\n",
       "    "
      ],
      "text/plain": [
       "<IPython.core.display.HTML object>"
      ]
     },
     "metadata": {},
     "output_type": "display_data"
    },
    {
     "name": "stderr",
     "output_type": "stream",
     "text": [
      "Sampling 2 chains for 1_000 tune and 1_000 draw iterations (2_000 + 2_000 draws total) took 8 seconds.\n"
     ]
    },
    {
     "name": "stdout",
     "output_type": "stream",
     "text": [
      "Fitting linear model for: ('FIH', 4)\n"
     ]
    },
    {
     "name": "stderr",
     "output_type": "stream",
     "text": [
      "/opt/anaconda3/lib/python3.7/site-packages/ipykernel_launcher.py:56: FutureWarning: In v4.0, pm.sample will return an `arviz.InferenceData` object instead of a `MultiTrace` by default. You can pass return_inferencedata=True or return_inferencedata=False to be safe and silence this warning.\n",
      "Auto-assigning NUTS sampler...\n",
      "Initializing NUTS using jitter+adapt_diag...\n",
      "Sequential sampling (2 chains in 1 job)\n",
      "NUTS: [error, intercept, slope]\n"
     ]
    },
    {
     "data": {
      "text/html": [
       "\n",
       "    <div>\n",
       "        <style>\n",
       "            /* Turns off some styling */\n",
       "            progress {\n",
       "                /* gets rid of default border in Firefox and Opera. */\n",
       "                border: none;\n",
       "                /* Needs to be in here for Safari polyfill so background images work as expected. */\n",
       "                background-size: auto;\n",
       "            }\n",
       "            .progress-bar-interrupted, .progress-bar-interrupted::-webkit-progress-bar {\n",
       "                background: #F44336;\n",
       "            }\n",
       "        </style>\n",
       "      <progress value='2000' class='' max='2000' style='width:300px; height:20px; vertical-align: middle;'></progress>\n",
       "      100.00% [2000/2000 00:02<00:00 Sampling chain 0, 0 divergences]\n",
       "    </div>\n",
       "    "
      ],
      "text/plain": [
       "<IPython.core.display.HTML object>"
      ]
     },
     "metadata": {},
     "output_type": "display_data"
    },
    {
     "data": {
      "text/html": [
       "\n",
       "    <div>\n",
       "        <style>\n",
       "            /* Turns off some styling */\n",
       "            progress {\n",
       "                /* gets rid of default border in Firefox and Opera. */\n",
       "                border: none;\n",
       "                /* Needs to be in here for Safari polyfill so background images work as expected. */\n",
       "                background-size: auto;\n",
       "            }\n",
       "            .progress-bar-interrupted, .progress-bar-interrupted::-webkit-progress-bar {\n",
       "                background: #F44336;\n",
       "            }\n",
       "        </style>\n",
       "      <progress value='2000' class='' max='2000' style='width:300px; height:20px; vertical-align: middle;'></progress>\n",
       "      100.00% [2000/2000 00:02<00:00 Sampling chain 1, 0 divergences]\n",
       "    </div>\n",
       "    "
      ],
      "text/plain": [
       "<IPython.core.display.HTML object>"
      ]
     },
     "metadata": {},
     "output_type": "display_data"
    },
    {
     "name": "stderr",
     "output_type": "stream",
     "text": [
      "Sampling 2 chains for 1_000 tune and 1_000 draw iterations (2_000 + 2_000 draws total) took 5 seconds.\n"
     ]
    },
    {
     "name": "stdout",
     "output_type": "stream",
     "text": [
      "Fitting linear model for: ('FIH', 5)\n"
     ]
    },
    {
     "name": "stderr",
     "output_type": "stream",
     "text": [
      "/opt/anaconda3/lib/python3.7/site-packages/pymc3/model.py:1755: ImputationWarning: Data in observation contains missing values and will be automatically imputed from the sampling distribution.\n",
      "  if self.distribution is None:\n",
      "/opt/anaconda3/lib/python3.7/site-packages/ipykernel_launcher.py:56: FutureWarning: In v4.0, pm.sample will return an `arviz.InferenceData` object instead of a `MultiTrace` by default. You can pass return_inferencedata=True or return_inferencedata=False to be safe and silence this warning.\n",
      "Auto-assigning NUTS sampler...\n",
      "Initializing NUTS using jitter+adapt_diag...\n",
      "Sequential sampling (2 chains in 1 job)\n",
      "NUTS: [observation_missing, error, intercept, slope]\n"
     ]
    },
    {
     "data": {
      "text/html": [
       "\n",
       "    <div>\n",
       "        <style>\n",
       "            /* Turns off some styling */\n",
       "            progress {\n",
       "                /* gets rid of default border in Firefox and Opera. */\n",
       "                border: none;\n",
       "                /* Needs to be in here for Safari polyfill so background images work as expected. */\n",
       "                background-size: auto;\n",
       "            }\n",
       "            .progress-bar-interrupted, .progress-bar-interrupted::-webkit-progress-bar {\n",
       "                background: #F44336;\n",
       "            }\n",
       "        </style>\n",
       "      <progress value='2000' class='' max='2000' style='width:300px; height:20px; vertical-align: middle;'></progress>\n",
       "      100.00% [2000/2000 00:05<00:00 Sampling chain 0, 0 divergences]\n",
       "    </div>\n",
       "    "
      ],
      "text/plain": [
       "<IPython.core.display.HTML object>"
      ]
     },
     "metadata": {},
     "output_type": "display_data"
    },
    {
     "data": {
      "text/html": [
       "\n",
       "    <div>\n",
       "        <style>\n",
       "            /* Turns off some styling */\n",
       "            progress {\n",
       "                /* gets rid of default border in Firefox and Opera. */\n",
       "                border: none;\n",
       "                /* Needs to be in here for Safari polyfill so background images work as expected. */\n",
       "                background-size: auto;\n",
       "            }\n",
       "            .progress-bar-interrupted, .progress-bar-interrupted::-webkit-progress-bar {\n",
       "                background: #F44336;\n",
       "            }\n",
       "        </style>\n",
       "      <progress value='2000' class='' max='2000' style='width:300px; height:20px; vertical-align: middle;'></progress>\n",
       "      100.00% [2000/2000 00:05<00:00 Sampling chain 1, 0 divergences]\n",
       "    </div>\n",
       "    "
      ],
      "text/plain": [
       "<IPython.core.display.HTML object>"
      ]
     },
     "metadata": {},
     "output_type": "display_data"
    },
    {
     "name": "stderr",
     "output_type": "stream",
     "text": [
      "Sampling 2 chains for 1_000 tune and 1_000 draw iterations (2_000 + 2_000 draws total) took 11 seconds.\n",
      "The acceptance probability does not match the target. It is 0.8896487028850347, but should be close to 0.8. Try to increase the number of tuning steps.\n"
     ]
    },
    {
     "name": "stdout",
     "output_type": "stream",
     "text": [
      "Fitting linear model for: ('FIH', 6)\n"
     ]
    },
    {
     "name": "stderr",
     "output_type": "stream",
     "text": [
      "/opt/anaconda3/lib/python3.7/site-packages/ipykernel_launcher.py:56: FutureWarning: In v4.0, pm.sample will return an `arviz.InferenceData` object instead of a `MultiTrace` by default. You can pass return_inferencedata=True or return_inferencedata=False to be safe and silence this warning.\n",
      "Auto-assigning NUTS sampler...\n",
      "Initializing NUTS using jitter+adapt_diag...\n",
      "Sequential sampling (2 chains in 1 job)\n",
      "NUTS: [error, intercept, slope]\n"
     ]
    },
    {
     "data": {
      "text/html": [
       "\n",
       "    <div>\n",
       "        <style>\n",
       "            /* Turns off some styling */\n",
       "            progress {\n",
       "                /* gets rid of default border in Firefox and Opera. */\n",
       "                border: none;\n",
       "                /* Needs to be in here for Safari polyfill so background images work as expected. */\n",
       "                background-size: auto;\n",
       "            }\n",
       "            .progress-bar-interrupted, .progress-bar-interrupted::-webkit-progress-bar {\n",
       "                background: #F44336;\n",
       "            }\n",
       "        </style>\n",
       "      <progress value='2000' class='' max='2000' style='width:300px; height:20px; vertical-align: middle;'></progress>\n",
       "      100.00% [2000/2000 00:03<00:00 Sampling chain 0, 0 divergences]\n",
       "    </div>\n",
       "    "
      ],
      "text/plain": [
       "<IPython.core.display.HTML object>"
      ]
     },
     "metadata": {},
     "output_type": "display_data"
    },
    {
     "data": {
      "text/html": [
       "\n",
       "    <div>\n",
       "        <style>\n",
       "            /* Turns off some styling */\n",
       "            progress {\n",
       "                /* gets rid of default border in Firefox and Opera. */\n",
       "                border: none;\n",
       "                /* Needs to be in here for Safari polyfill so background images work as expected. */\n",
       "                background-size: auto;\n",
       "            }\n",
       "            .progress-bar-interrupted, .progress-bar-interrupted::-webkit-progress-bar {\n",
       "                background: #F44336;\n",
       "            }\n",
       "        </style>\n",
       "      <progress value='2000' class='' max='2000' style='width:300px; height:20px; vertical-align: middle;'></progress>\n",
       "      100.00% [2000/2000 00:02<00:00 Sampling chain 1, 0 divergences]\n",
       "    </div>\n",
       "    "
      ],
      "text/plain": [
       "<IPython.core.display.HTML object>"
      ]
     },
     "metadata": {},
     "output_type": "display_data"
    },
    {
     "name": "stderr",
     "output_type": "stream",
     "text": [
      "Sampling 2 chains for 1_000 tune and 1_000 draw iterations (2_000 + 2_000 draws total) took 6 seconds.\n"
     ]
    },
    {
     "name": "stdout",
     "output_type": "stream",
     "text": [
      "Fitting linear model for: ('FIH', 7)\n"
     ]
    },
    {
     "name": "stderr",
     "output_type": "stream",
     "text": [
      "/opt/anaconda3/lib/python3.7/site-packages/pymc3/model.py:1755: ImputationWarning: Data in observation contains missing values and will be automatically imputed from the sampling distribution.\n",
      "  if self.distribution is None:\n",
      "/opt/anaconda3/lib/python3.7/site-packages/ipykernel_launcher.py:56: FutureWarning: In v4.0, pm.sample will return an `arviz.InferenceData` object instead of a `MultiTrace` by default. You can pass return_inferencedata=True or return_inferencedata=False to be safe and silence this warning.\n",
      "Auto-assigning NUTS sampler...\n",
      "Initializing NUTS using jitter+adapt_diag...\n",
      "Sequential sampling (2 chains in 1 job)\n",
      "NUTS: [observation_missing, error, intercept, slope]\n"
     ]
    },
    {
     "data": {
      "text/html": [
       "\n",
       "    <div>\n",
       "        <style>\n",
       "            /* Turns off some styling */\n",
       "            progress {\n",
       "                /* gets rid of default border in Firefox and Opera. */\n",
       "                border: none;\n",
       "                /* Needs to be in here for Safari polyfill so background images work as expected. */\n",
       "                background-size: auto;\n",
       "            }\n",
       "            .progress-bar-interrupted, .progress-bar-interrupted::-webkit-progress-bar {\n",
       "                background: #F44336;\n",
       "            }\n",
       "        </style>\n",
       "      <progress value='2000' class='' max='2000' style='width:300px; height:20px; vertical-align: middle;'></progress>\n",
       "      100.00% [2000/2000 00:04<00:00 Sampling chain 0, 0 divergences]\n",
       "    </div>\n",
       "    "
      ],
      "text/plain": [
       "<IPython.core.display.HTML object>"
      ]
     },
     "metadata": {},
     "output_type": "display_data"
    },
    {
     "data": {
      "text/html": [
       "\n",
       "    <div>\n",
       "        <style>\n",
       "            /* Turns off some styling */\n",
       "            progress {\n",
       "                /* gets rid of default border in Firefox and Opera. */\n",
       "                border: none;\n",
       "                /* Needs to be in here for Safari polyfill so background images work as expected. */\n",
       "                background-size: auto;\n",
       "            }\n",
       "            .progress-bar-interrupted, .progress-bar-interrupted::-webkit-progress-bar {\n",
       "                background: #F44336;\n",
       "            }\n",
       "        </style>\n",
       "      <progress value='2000' class='' max='2000' style='width:300px; height:20px; vertical-align: middle;'></progress>\n",
       "      100.00% [2000/2000 00:04<00:00 Sampling chain 1, 0 divergences]\n",
       "    </div>\n",
       "    "
      ],
      "text/plain": [
       "<IPython.core.display.HTML object>"
      ]
     },
     "metadata": {},
     "output_type": "display_data"
    },
    {
     "name": "stderr",
     "output_type": "stream",
     "text": [
      "Sampling 2 chains for 1_000 tune and 1_000 draw iterations (2_000 + 2_000 draws total) took 8 seconds.\n",
      "The acceptance probability does not match the target. It is 0.8913314039676368, but should be close to 0.8. Try to increase the number of tuning steps.\n",
      "The acceptance probability does not match the target. It is 0.8804208844736539, but should be close to 0.8. Try to increase the number of tuning steps.\n"
     ]
    }
   ],
   "source": [
    "KeyType = Tuple[int, int, str]\n",
    "ValueType = pd.DataFrame\n",
    "AggBayesType = Dict[KeyType, ValueType]\n",
    "\n",
    "agg_bayes: AggBayesType = {}\n",
    "\n",
    "for key in group_keys():\n",
    "    print(\"Fitting linear model for:\", key)\n",
    "    \n",
    "    # Get data for model\n",
    "    condition, phasenum = key\n",
    "    test_df = subset_data(cleaned_df, condition = condition, phasenum = phasenum)\n",
    "    x = test_df.num_rep.to_numpy().reshape(-1, 1)\n",
    "    x = x.flatten()\n",
    "    y = test_df.corrected_pitches.to_numpy()\n",
    "    \n",
    "    # Model\n",
    "    with pm.Model() as model:\n",
    "        # Define priors\n",
    "        a = pm.Normal('slope', 0, 16)\n",
    "        b = pm.Normal('intercept', 0, 16)\n",
    "        s = pm.Exponential('error', 1)\n",
    "\n",
    "        # Predictions\n",
    "        obs = pm.Normal('observation', a * x + b, s, observed = y)\n",
    "\n",
    "        # Use MCMC to sample\n",
    "        trace = pm.sample(1000, tune=1000, cores=1)\n",
    "\n",
    "        # Get summary statistics for posterior\n",
    "        lin_reg_summary = az.summary(trace, round_to = 2, hdi_prob = 0.95)\n",
    "        agg_bayes[key] = lin_reg_summary.loc[[\"slope\", \"intercept\", \"error\"], \n",
    "                                            [\"mean\", \"sd\", \"hdi_2.5%\", \"hdi_97.5%\"]]\n"
   ]
  },
  {
   "cell_type": "code",
   "execution_count": null,
   "metadata": {},
   "outputs": [],
   "source": [
    "#agg_bayes: Dict[tuple, float] = {\n",
    "#    \"avg\": [],\n",
    "#    \"std\": [],\n",
    "#    \"hdi_upper\": [],\n",
    "#    \"hdi_lower\": [],\n",
    "#}\n",
    "#indexes = []\n",
    "\n",
    "for key in group_keys():\n",
    "    print(\"Fitting linear model for:\", key)\n",
    "    \n",
    "    # Get data for model\n",
    "    condition, phasenum = key\n",
    "    test_df = subset_data(cleaned_df, condition = condition, phasenum = phasenum)\n",
    "    x = test_df.num_rep.to_numpy().reshape(-1, 1)\n",
    "    x = x.flatten()\n",
    "    y = test_df.corrected_pitches.to_numpy()\n",
    "    \n",
    "    # Model\n",
    "    with pm.Model() as model:\n",
    "        # Define priors\n",
    "        a = pm.Normal('slope', 0, 16)\n",
    "        b = pm.Normal('intercept', 0, 16)\n",
    "        s = pm.Exponential('error', 1)\n",
    "\n",
    "        # Predictions\n",
    "        obs = pm.Normal('observation', a * x + b, s, observed = y)\n",
    "\n",
    "        # Use MCMC to sample\n",
    "        trace = pm.sample(1000, tune=1000, cores=1)\n",
    "\n",
    "        # Get summary statistics for posterior\n",
    "        lin_reg_summary = az.summary(trace, round_to = 2, hdi_prob = 0.95)\n",
    "        agg_bayes[key] = lin_reg_summary.loc[[\"slope\", \"intercept\", \"error\"], \n",
    "                                            [\"mean\", \"sd\", \"hdi_2.5%\", \"hdi_97.5%\"]]\n",
    "        \n",
    "        # Append to dict\n",
    "        # = lin_reg_summary.iloc[[\"slope\", \"intercept\", \"error\"], [\"mean\"]]\n",
    "        #indexes.append(key)\n",
    "        #agg_bayes[\"avg\"].append(avg)\n",
    "        #agg_bayes[\"std\"].append(std)\n",
    "        #agg_bayes[\"hdi_lower\"].append(hdi_lower)\n",
    "        #agg_bayes[\"hdi_upper\"].append(hdi_upper)\n",
    "        \n",
    "#agg_bayes = pd.DataFrame(agg_bayes)\n",
    "#agg_bayes = agg_bayes.set_index(indexes) \n"
   ]
  },
  {
   "cell_type": "code",
   "execution_count": 165,
   "metadata": {},
   "outputs": [
    {
     "data": {
      "text/plain": [
       "-0.05"
      ]
     },
     "execution_count": 165,
     "metadata": {},
     "output_type": "execute_result"
    }
   ],
   "source": [
    "lin_reg_summary.loc[[\"slope\"], [\"mean\"]]\n",
    "lin_reg_summary.iloc[0, 0]"
   ]
  },
  {
   "cell_type": "code",
   "execution_count": 152,
   "metadata": {},
   "outputs": [
    {
     "data": {
      "text/plain": [
       "pandas.core.frame.DataFrame"
      ]
     },
     "execution_count": 152,
     "metadata": {},
     "output_type": "execute_result"
    }
   ],
   "source": [
    "type(lin_reg_summary.loc[[\"slope\", \"intercept\", \"error\"], [\"mean\", \"sd\", \"hdi_2.5%\", \"hdi_97.5%\"]])"
   ]
  },
  {
   "cell_type": "code",
   "execution_count": 169,
   "metadata": {},
   "outputs": [
    {
     "data": {
      "text/plain": [
       "{('PU', 4):            mean    sd  hdi_2.5%  hdi_97.5%\n",
       " slope     -0.05  0.04     -0.12       0.03\n",
       " intercept  0.49  0.50     -0.41       1.51\n",
       " error      6.07  0.17      5.73       6.41,\n",
       " ('PU', 5):            mean    sd  hdi_2.5%  hdi_97.5%\n",
       " slope      0.25  0.02      0.23       0.29\n",
       " intercept -0.91  0.46     -1.76       0.04\n",
       " error      8.71  0.16      8.40       9.03,\n",
       " ('PU', 6):             mean    sd  hdi_2.5%  hdi_97.5%\n",
       " slope      -0.00  0.02     -0.04       0.04\n",
       " intercept  13.42  0.65     12.21      14.71\n",
       " error      12.04  0.23     11.60      12.47,\n",
       " ('PU', 7):            mean    sd  hdi_2.5%  hdi_97.5%\n",
       " slope     -0.12  0.05     -0.22      -0.02\n",
       " intercept  4.23  0.76      2.77       5.72\n",
       " error      9.93  0.24      9.47      10.41,\n",
       " ('PD', 4):             mean    sd  hdi_2.5%  hdi_97.5%\n",
       " slope      -0.04  0.08     -0.19       0.13\n",
       " intercept   0.38  0.96     -1.46       2.27\n",
       " error      10.94  0.32     10.31      11.56,\n",
       " ('PD', 5):             mean    sd  hdi_2.5%  hdi_97.5%\n",
       " slope      -0.17  0.02     -0.21      -0.13\n",
       " intercept   0.35  0.63     -0.82       1.60\n",
       " error      11.83  0.20     11.42      12.21,\n",
       " ('PD', 6):             mean    sd  hdi_2.5%  hdi_97.5%\n",
       " slope       0.06  0.03      0.01       0.11\n",
       " intercept  -8.40  0.75     -9.90      -7.01\n",
       " error      14.03  0.26     13.57      14.59,\n",
       " ('PD', 7):             mean    sd  hdi_2.5%  hdi_97.5%\n",
       " slope       0.03  0.07     -0.11       0.15\n",
       " intercept   1.10  0.96     -0.77       3.04\n",
       " error      12.80  0.32     12.17      13.43,\n",
       " ('FAE', 4):            mean    sd  hdi_2.5%  hdi_97.5%\n",
       " slope      0.16  0.03      0.11       0.23\n",
       " intercept -1.69  0.38     -2.43      -0.97\n",
       " error      4.58  0.13      4.33       4.84,\n",
       " ('FAE', 5):            mean    sd  hdi_2.5%  hdi_97.5%\n",
       " slope     -0.02  0.01     -0.05       0.01\n",
       " intercept  1.01  0.42      0.19       1.84\n",
       " error      8.07  0.14      7.80       8.33,\n",
       " ('FAE', 6):             mean    sd  hdi_2.5%  hdi_97.5%\n",
       " slope       0.04  0.02      0.00       0.07\n",
       " intercept   0.61  0.55     -0.41       1.74\n",
       " error      10.59  0.19     10.24      11.00,\n",
       " ('FAE', 7):             mean    sd  hdi_2.5%  hdi_97.5%\n",
       " slope      -0.02  0.06     -0.15       0.10\n",
       " intercept   1.10  0.95     -0.79       2.93\n",
       " error      12.56  0.32     11.92      13.17,\n",
       " ('FIH', 4):            mean    sd  hdi_2.5%  hdi_97.5%\n",
       " slope     -0.02  0.03     -0.08       0.04\n",
       " intercept  0.21  0.38     -0.53       0.95\n",
       " error      4.47  0.13      4.22       4.71,\n",
       " ('FIH', 5):            mean    sd  hdi_2.5%  hdi_97.5%\n",
       " slope      0.03  0.01     -0.00       0.06\n",
       " intercept  0.15  0.44     -0.73       0.99\n",
       " error      8.37  0.16      8.07       8.69,\n",
       " ('FIH', 6):            mean    sd  hdi_2.5%  hdi_97.5%\n",
       " slope      0.00  0.02     -0.03       0.04\n",
       " intercept  0.53  0.49     -0.54       1.40\n",
       " error      9.04  0.17      8.72       9.37,\n",
       " ('FIH', 7):             mean    sd  hdi_2.5%  hdi_97.5%\n",
       " slope      -0.02  0.05     -0.12       0.08\n",
       " intercept   0.29  0.78     -1.30       1.71\n",
       " error      10.44  0.26      9.91      10.93}"
      ]
     },
     "execution_count": 169,
     "metadata": {},
     "output_type": "execute_result"
    }
   ],
   "source": [
    "agg_bayes"
   ]
  },
  {
   "cell_type": "code",
   "execution_count": 78,
   "metadata": {},
   "outputs": [
    {
     "data": {
      "text/plain": [
       "array([0.46341258])"
      ]
     },
     "execution_count": 78,
     "metadata": {},
     "output_type": "execute_result"
    }
   ],
   "source": []
  },
  {
   "cell_type": "code",
   "execution_count": 81,
   "metadata": {},
   "outputs": [
    {
     "ename": "AttributeError",
     "evalue": "'LinearRegression' object has no attribute 'summary_'",
     "output_type": "error",
     "traceback": [
      "\u001b[0;31m---------------------------------------------------------------------------\u001b[0m",
      "\u001b[0;31mAttributeError\u001b[0m                            Traceback (most recent call last)",
      "\u001b[0;32m<ipython-input-81-a3abe3a6ec4c>\u001b[0m in \u001b[0;36m<module>\u001b[0;34m\u001b[0m\n\u001b[0;32m----> 1\u001b[0;31m \u001b[0mln\u001b[0m\u001b[0;34m.\u001b[0m\u001b[0msummary_\u001b[0m\u001b[0;34m\u001b[0m\u001b[0;34m\u001b[0m\u001b[0m\n\u001b[0m",
      "\u001b[0;31mAttributeError\u001b[0m: 'LinearRegression' object has no attribute 'summary_'"
     ]
    }
   ],
   "source": []
  },
  {
   "cell_type": "code",
   "execution_count": null,
   "metadata": {},
   "outputs": [],
   "source": []
  }
 ],
 "metadata": {
  "kernelspec": {
   "display_name": "Python 3",
   "language": "python",
   "name": "python3"
  },
  "language_info": {
   "codemirror_mode": {
    "name": "ipython",
    "version": 3
   },
   "file_extension": ".py",
   "mimetype": "text/x-python",
   "name": "python",
   "nbconvert_exporter": "python",
   "pygments_lexer": "ipython3",
   "version": "3.7.4"
  }
 },
 "nbformat": 4,
 "nbformat_minor": 2
}
